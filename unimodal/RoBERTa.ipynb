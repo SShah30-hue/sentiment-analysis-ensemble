{
 "cells": [
  {
   "cell_type": "markdown",
   "id": "df3ebc20",
   "metadata": {},
   "source": [
    "# MELD "
   ]
  },
  {
   "cell_type": "markdown",
   "id": "ff965a82",
   "metadata": {},
   "source": [
    "**Column Specification:**\n",
    "\n",
    "**Column Name = Description** \n",
    "\n",
    "Sr No. = Serial numbers of the utterances mainly for referencing the utterances in case of different versions or multiple copies with different subsets.                \n",
    "\n",
    "Utterance = Individual utterances from EmotionLines as a string.                                           \n",
    "\n",
    "Speaker = Name of the speaker associated with the utterance.                                             \n",
    "\n",
    "Emotion = The emotion (neutral, joy, sadness, anger, surprise, fear, disgust)in the utterance.\n",
    "\n",
    "Sentiment = The sentiment (positive, neutral, negative) expressed by the speaker in the utterance.         \n",
    "\n",
    "Dialogue_ID = The index of the dialogue starting from 0.                                                     \n",
    "\n",
    "Utterance_ID = The index of the particular utterance in the dialogue starting from 0.                         \n",
    "\n",
    "Season = The season no. of Friends TV Show to which a particular utterance belongs.\n",
    "\n",
    "**Data Splits:**\n",
    "\n",
    "Train = 9989\n",
    "\n",
    "Dev = 1109\n",
    "\n",
    "Test = 2610\n",
    "\n",
    "Total = 13708"
   ]
  },
  {
   "cell_type": "code",
   "execution_count": null,
   "id": "1f57575c",
   "metadata": {},
   "outputs": [],
   "source": [
    "import csv\n",
    "import glob\n",
    "import json\n",
    "import numpy as np\n",
    "import pandas as pd\n",
    "import tensorflow as tf\n",
    "import re\n",
    "\n",
    "from tqdm.auto import tqdm\n",
    "\n",
    "import torch\n",
    "import torch.nn as nn\n",
    "from torch.utils.data import Dataset, DataLoader\n",
    "from torchmetrics import AUROC\n",
    "\n",
    "from transformers import BertTokenizerFast as BertTokenizer, BertModel, AdamW, RobertaModel, RobertaTokenizer, get_linear_schedule_with_warmup\n",
    "from transformers import AutoConfig, AutoTokenizer\n",
    "\n",
    "import pytorch_lightning as pl\n",
    "from pytorch_lightning.metrics.functional import accuracy, f1, auroc\n",
    "from pytorch_lightning.callbacks import ModelCheckpoint, EarlyStopping\n",
    "from pytorch_lightning.loggers import TensorBoardLogger\n",
    "\n",
    "\n",
    "from sklearn.model_selection import train_test_split\n",
    "from sklearn.metrics import classification_report, confusion_matrix\n",
    "\n",
    "import seaborn as sns\n",
    "from pylab import rcParams\n",
    "import matplotlib.pyplot as plt\n",
    "from matplotlib import rc\n",
    "\n",
    "%matplotlib inline\n",
    "%config InlineBackend.figure_format='retina'\n",
    "\n",
    "RANDOM_SEED = 42\n",
    "\n",
    "sns.set(style='whitegrid', palette='muted', font_scale=1.2)\n",
    "HAPPY_COLORS_PALETTE = [\"#01BEFE\", \"#FFDD00\", \"#FF7D00\", \"#FF006D\", \"#ADFF02\", \"#8F00FF\"]\n",
    "sns.set_palette(sns.color_palette(HAPPY_COLORS_PALETTE))\n",
    "rcParams['figure.figsize'] = 12, 8\n",
    "pl.seed_everything(RANDOM_SEED)"
   ]
  },
  {
   "cell_type": "code",
   "execution_count": null,
   "id": "ad8e330c",
   "metadata": {},
   "outputs": [],
   "source": [
    "df_train = pd.read_csv(r\"C:/Data/Sentiment Analysis/MELD/Processed/Processed_final/v2/train.csv\") \n",
    "df_dev = pd.read_csv(r\"C:/Data/Sentiment Analysis/MELD/Processed/Processed_final/v2/dev.csv\") \n",
    "df_test = pd.read_csv(r\"C:/Data/Sentiment Analysis/MELD/Processed/Processed_final/v2/test.csv\")\n",
    "\n",
    "print(df_train.shape, df_dev.shape, df_test.shape)"
   ]
  },
  {
   "cell_type": "code",
   "execution_count": null,
   "id": "d4045388",
   "metadata": {},
   "outputs": [],
   "source": [
    "df_train = df_train[[\"transcription\",\"sentiment\"]]\n",
    "df_test = df_test[[\"transcription\",\"sentiment\"]]\n",
    "df_dev = df_dev[[\"transcription\",\"sentiment\"]]"
   ]
  },
  {
   "cell_type": "code",
   "execution_count": null,
   "id": "6a7ab410",
   "metadata": {},
   "outputs": [],
   "source": [
    "encode_map = {'negative': 0,'neutral': 1,'positive': 2}\n",
    "\n",
    "df_train['sentiment'] = df_train['sentiment'].astype('category')\n",
    "df_train['sentiment'].replace(encode_map, inplace=True)\n",
    "\n",
    "df_dev['sentiment'] = df_dev['sentiment'].astype('category')\n",
    "df_dev['sentiment'].replace(encode_map, inplace=True)\n",
    "\n",
    "df_test['sentiment'] = df_test['sentiment'].astype('category')\n",
    "df_test['sentiment'].replace(encode_map, inplace=True)"
   ]
  },
  {
   "cell_type": "markdown",
   "id": "40f1cb16",
   "metadata": {},
   "source": [
    "# EDA"
   ]
  },
  {
   "cell_type": "code",
   "execution_count": null,
   "id": "16a8b728",
   "metadata": {},
   "outputs": [],
   "source": [
    "frames = [df_train, df_dev, df_test]\n",
    "combine = pd.concat(frames)\n",
    "all_data = combine.reset_index(drop=True)"
   ]
  },
  {
   "cell_type": "code",
   "execution_count": null,
   "id": "954ee318",
   "metadata": {},
   "outputs": [],
   "source": [
    "sns.countplot(x = 'sentiment', data=all_data) #'negative': 0,'neutral': 1,'positive': 2"
   ]
  },
  {
   "cell_type": "markdown",
   "id": "e9a47106",
   "metadata": {},
   "source": [
    "# Preprocessing"
   ]
  },
  {
   "cell_type": "code",
   "execution_count": null,
   "id": "6d6ed2b2",
   "metadata": {},
   "outputs": [],
   "source": [
    "len(all_data)"
   ]
  },
  {
   "cell_type": "code",
   "execution_count": null,
   "id": "c33f7b17",
   "metadata": {},
   "outputs": [],
   "source": [
    "all_data.head(5) #neg=0, neu=1, pos=2"
   ]
  },
  {
   "cell_type": "code",
   "execution_count": null,
   "id": "c1306d90",
   "metadata": {},
   "outputs": [],
   "source": [
    "LABEL_COLUMNS = all_data.columns.tolist()[1:]"
   ]
  },
  {
   "cell_type": "code",
   "execution_count": null,
   "id": "5c5ef5fb",
   "metadata": {},
   "outputs": [],
   "source": [
    "LABEL_COLUMNS"
   ]
  },
  {
   "cell_type": "code",
   "execution_count": null,
   "id": "5ad6b058",
   "metadata": {},
   "outputs": [],
   "source": [
    "all_data['sentiment'].value_counts() #neg=0, neu=1, pos=2"
   ]
  },
  {
   "cell_type": "markdown",
   "id": "9f63e01f",
   "metadata": {},
   "source": [
    "# Tokenization"
   ]
  },
  {
   "cell_type": "code",
   "execution_count": null,
   "id": "7d5296ae",
   "metadata": {},
   "outputs": [],
   "source": [
    "MODEL_NAME = 'roberta-base'\n",
    "tokenizer = RobertaTokenizer.from_pretrained(MODEL_NAME)"
   ]
  },
  {
   "cell_type": "markdown",
   "id": "686a755a",
   "metadata": {},
   "source": [
    "# Number of tokens"
   ]
  },
  {
   "cell_type": "code",
   "execution_count": null,
   "id": "9c47e1c3",
   "metadata": {},
   "outputs": [],
   "source": [
    "token_counts = []\n",
    "\n",
    "for _, row in all_data.iterrows():\n",
    "    token_count = len(tokenizer.encode(\n",
    "        row[\"transcription\"],\n",
    "        max_length=512,\n",
    "        truncation=True\n",
    "    ))\n",
    "\n",
    "    token_counts.append(token_count)"
   ]
  },
  {
   "cell_type": "code",
   "execution_count": null,
   "id": "e1a8e89e",
   "metadata": {},
   "outputs": [],
   "source": [
    "sns.histplot(token_counts)\n",
    "plt.xlim([0, 60]);"
   ]
  },
  {
   "cell_type": "markdown",
   "id": "7502ad44",
   "metadata": {},
   "source": [
    "**Most of the utterances contain less than 60 tokens. Therefore, the limit set will be 60.**"
   ]
  },
  {
   "cell_type": "code",
   "execution_count": null,
   "id": "fffe5193",
   "metadata": {},
   "outputs": [],
   "source": [
    "MAX_TOKEN_COUNT = 60"
   ]
  },
  {
   "cell_type": "markdown",
   "id": "a8fdc49b",
   "metadata": {},
   "source": [
    "## Tokenization process for the whole dataset"
   ]
  },
  {
   "cell_type": "code",
   "execution_count": null,
   "id": "fdae1183",
   "metadata": {},
   "outputs": [],
   "source": [
    "class Dataset(Dataset):\n",
    "    \n",
    "    def __init__(\n",
    "        self,\n",
    "        data: pd.DataFrame,\n",
    "        tokenizer: RobertaTokenizer,\n",
    "        max_token_len: int = 60\n",
    "    ):\n",
    "\n",
    "        self.tokenizer = tokenizer\n",
    "        self.data = data\n",
    "        self.max_token_len = max_token_len\n",
    "\n",
    "    def __len__(self):\n",
    "        return len(self.data)\n",
    "\n",
    "    def __getitem__(self, index: int):\n",
    "        \n",
    "        data_row = self.data.iloc[index]\n",
    "        \n",
    "        Utterance = data_row.transcription\n",
    "        labels = data_row[LABEL_COLUMNS] \n",
    "\n",
    "        encoding = self.tokenizer.encode_plus(\n",
    "            Utterance,\n",
    "            add_special_tokens=True,\n",
    "            max_length=self.max_token_len,\n",
    "            return_token_type_ids=False,\n",
    "            padding=\"max_length\",\n",
    "            truncation=True,\n",
    "            return_attention_mask=True,\n",
    "            return_tensors='pt',\n",
    "        )\n",
    "        \n",
    "        return dict(\n",
    "            Utterance=Utterance,\n",
    "            input_ids=encoding[\"input_ids\"].flatten(),\n",
    "            attention_mask=encoding[\"attention_mask\"].flatten(),\n",
    "            labels=torch.LongTensor(labels)\n",
    "\n",
    "        )\n"
   ]
  },
  {
   "cell_type": "markdown",
   "id": "daefc627",
   "metadata": {},
   "source": [
    "# Encapsulating all data"
   ]
  },
  {
   "cell_type": "code",
   "execution_count": null,
   "id": "5bcaa6d8",
   "metadata": {},
   "outputs": [],
   "source": [
    "class DataModule(pl.LightningDataModule):\n",
    "    \n",
    "    def __init__(self, df_train, df_test, df_dev, tokenizer, batch_size=16, max_token_len=60):\n",
    "        super().__init__()\n",
    "        self.batch_size = batch_size\n",
    "        self.train_df = df_train\n",
    "        self.test_df = df_test\n",
    "        self.dev_df = df_dev\n",
    "        self.tokenizer = tokenizer\n",
    "        self.max_token_len = max_token_len\n",
    "\n",
    "    def setup(self, stage=None):\n",
    "        self.train_dataset = Dataset(\n",
    "          self.train_df,\n",
    "          self.tokenizer,\n",
    "          self.max_token_len\n",
    "        )\n",
    "\n",
    "        self.dev_dataset = Dataset(\n",
    "          self.dev_df,\n",
    "          self.tokenizer,\n",
    "          self.max_token_len\n",
    "        )\n",
    "        \n",
    "        self.test_dataset = Dataset(\n",
    "          self.test_df,\n",
    "          self.tokenizer,\n",
    "          self.max_token_len\n",
    "        )\n",
    "\n",
    "    def train_dataloader(self):\n",
    "        return DataLoader(\n",
    "          self.train_dataset,\n",
    "          batch_size=self.batch_size,\n",
    "          shuffle=True,\n",
    "          num_workers=0\n",
    "        )\n",
    "\n",
    "    def val_dataloader(self):\n",
    "        return DataLoader(\n",
    "          self.dev_dataset,\n",
    "          batch_size=self.batch_size,\n",
    "          num_workers=0\n",
    "        )\n",
    "\n",
    "    def test_dataloader(self):\n",
    "        return DataLoader(\n",
    "          self.test_dataset,\n",
    "          batch_size=self.batch_size,\n",
    "          num_workers=0\n",
    "        )"
   ]
  },
  {
   "cell_type": "markdown",
   "id": "5529acaa",
   "metadata": {},
   "source": [
    "**Instance for the data module:**"
   ]
  },
  {
   "cell_type": "code",
   "execution_count": null,
   "id": "e92f88de",
   "metadata": {},
   "outputs": [],
   "source": [
    "N_EPOCHS = 10\n",
    "BATCH_SIZE = 16\n",
    "\n",
    "data_module = DataModule(df_train, df_dev, df_test, \n",
    "                         tokenizer, batch_size=BATCH_SIZE,max_token_len=MAX_TOKEN_COUNT)"
   ]
  },
  {
   "cell_type": "markdown",
   "id": "b68fd42c",
   "metadata": {},
   "source": [
    "# Modelling"
   ]
  },
  {
   "cell_type": "markdown",
   "id": "e5d5bd92",
   "metadata": {},
   "source": [
    "**The first model is a pre-trained RoBERTa Model and a linear layer to convert the BERT representation to a classification task.**"
   ]
  },
  {
   "cell_type": "code",
   "execution_count": null,
   "id": "699117c9",
   "metadata": {},
   "outputs": [],
   "source": [
    "class Tagger(pl.LightningModule):\n",
    "    \n",
    "    def __init__(self, n_classes: int, n_training_steps=None, n_warmup_steps=None):\n",
    "        super().__init__()\n",
    "        self.roberta = RobertaModel.from_pretrained(MODEL_NAME, return_dict=True)\n",
    "        for parameter in self.roberta.parameters():\n",
    "            parameter.require_grad = False\n",
    "        self.classifier = nn.Linear(self.roberta.config.hidden_size, n_classes)\n",
    "        self.n_training_steps = n_training_steps\n",
    "        self.n_warmup_steps = n_warmup_steps\n",
    "        self.criterion = nn.CrossEntropyLoss()\n",
    "        \n",
    "\n",
    "    def forward(self, input_ids, attention_mask, labels=None):\n",
    "\n",
    "        output = self.roberta(input_ids, attention_mask=attention_mask)\n",
    "        output = self.classifier(output.pooler_output)\n",
    "        output = torch.softmax(output, dim=1)\n",
    "        loss = 0\n",
    "        \n",
    "        #Print to debug\n",
    "        #print(output)\n",
    "        #print(labels)\n",
    "        \n",
    "        if labels is not None:\n",
    "            labels = labels.flatten() ##\n",
    "            loss = self.criterion(output, labels)\n",
    "        return loss, output\n",
    "\n",
    "    def training_step(self, batch, batch_idx):\n",
    "\n",
    "        input_ids = batch[\"input_ids\"]\n",
    "        attention_mask = batch[\"attention_mask\"]\n",
    "        labels = batch[\"labels\"]\n",
    "        loss, outputs = self(input_ids, attention_mask, labels)\n",
    "        self.log(\"train_loss\", loss, prog_bar=True, logger=True)\n",
    "        return {\"loss\": loss, \"predictions\": outputs, \"labels\": labels}\n",
    "\n",
    "    def validation_step(self, batch, batch_idx):\n",
    "\n",
    "        input_ids = batch[\"input_ids\"]\n",
    "        attention_mask = batch[\"attention_mask\"]\n",
    "        labels = batch[\"labels\"]\n",
    "        loss, outputs = self(input_ids, attention_mask, labels)\n",
    "        self.log(\"val_loss\", loss, prog_bar=True, logger=True)\n",
    "        return loss\n",
    "\n",
    "    def test_step(self, batch, batch_idx):\n",
    "\n",
    "        input_ids = batch[\"input_ids\"]\n",
    "        attention_mask = batch[\"attention_mask\"]\n",
    "        labels = batch[\"labels\"]\n",
    "        loss, outputs = self(input_ids, attention_mask, labels)\n",
    "        self.log(\"test_loss\", loss, prog_bar=True, logger=True)\n",
    "        return loss\n",
    "\n",
    "    def training_epoch_end(self, outputs):\n",
    "\n",
    "        labels = []\n",
    "        predictions = []\n",
    "\n",
    "        for output in outputs:\n",
    "            for out_labels in output[\"labels\"].detach().cpu():\n",
    "                labels.append(out_labels)\n",
    "            for out_predictions in output[\"predictions\"].detach().cpu():\n",
    "                predictions.append(out_predictions)\n",
    "                \n",
    "        \n",
    "        labels = torch.stack(labels).int()\n",
    "        predictions = torch.stack(predictions)\n",
    "        #print(labels)\n",
    "        #print(predictions)\n",
    "        \n",
    "        pred = torch.argmax(predictions, dim=1)\n",
    "        \n",
    "        train_acc = accuracy(pred, labels, num_classes=3)\n",
    "        #print(\"Label:\", labels)\n",
    "        #print(\"Prediction:\", pred)\n",
    "        print(\"Training Accuracy:\", train_acc)\n",
    "        \n",
    "        label = labels.flatten()\n",
    "        auroc = AUROC(num_classes=3)\n",
    "        auroc = auroc(predictions, label)\n",
    "        print(\"AUROC:\", auroc)\n",
    "\n",
    "    def configure_optimizers(self): #configuring the optimizers\n",
    "\n",
    "        optimizer = AdamW(self.parameters(), lr=2e-5)\n",
    "\n",
    "        scheduler = get_linear_schedule_with_warmup(\n",
    "          optimizer,\n",
    "          num_warmup_steps=self.n_warmup_steps,\n",
    "          num_training_steps=self.n_training_steps\n",
    "\n",
    "        )\n",
    "\n",
    "        return dict(\n",
    "            optimizer=optimizer,\n",
    "            lr_scheduler=dict(\n",
    "                scheduler=scheduler,\n",
    "                interval='step'\n",
    "            )\n",
    "\n",
    "        )"
   ]
  },
  {
   "cell_type": "code",
   "execution_count": null,
   "id": "8a13850f",
   "metadata": {},
   "outputs": [],
   "source": [
    "steps_per_epoch=len(df_train) // BATCH_SIZE\n",
    "total_training_steps = steps_per_epoch * N_EPOCHS"
   ]
  },
  {
   "cell_type": "code",
   "execution_count": null,
   "id": "3d46c5b8",
   "metadata": {},
   "outputs": [],
   "source": [
    "#1/5 of the training steps as warm-up\n",
    "warmup_steps = total_training_steps // 5\n",
    "warmup_steps, total_training_steps"
   ]
  },
  {
   "cell_type": "markdown",
   "id": "66da1849",
   "metadata": {},
   "source": [
    "**Instance of the model**"
   ]
  },
  {
   "cell_type": "code",
   "execution_count": null,
   "id": "c71c499e",
   "metadata": {},
   "outputs": [],
   "source": [
    "model = Tagger(\n",
    "  n_classes=3,\n",
    "  n_warmup_steps=warmup_steps,\n",
    "  n_training_steps=total_training_steps\n",
    ")"
   ]
  },
  {
   "cell_type": "markdown",
   "id": "6264367d",
   "metadata": {},
   "source": [
    "# Training"
   ]
  },
  {
   "cell_type": "markdown",
   "id": "ea7ceaa3",
   "metadata": {},
   "source": [
    "Checkpointing that saves the best model (based on validation loss):"
   ]
  },
  {
   "cell_type": "code",
   "execution_count": null,
   "id": "d559e324",
   "metadata": {},
   "outputs": [],
   "source": [
    "checkpoint_callback = ModelCheckpoint(\n",
    "    dirpath=\"C:/Users/id301281/NLP/NLU/MELD/RoBERTa\",\n",
    "    filename=\"best-checkpoint\",\n",
    "    save_top_k=1,\n",
    "    verbose=True,\n",
    "    monitor=\"val_loss\",\n",
    "    mode=\"min\"\n",
    "    )"
   ]
  },
  {
   "cell_type": "markdown",
   "id": "8be77347",
   "metadata": {},
   "source": [
    "And early stopping triggers when the loss hasn’t improved for the last 2 epochs:"
   ]
  },
  {
   "cell_type": "code",
   "execution_count": null,
   "id": "2dcddb7d",
   "metadata": {},
   "outputs": [],
   "source": [
    "early_stopping_callback = EarlyStopping(monitor='val_loss', patience=3)"
   ]
  },
  {
   "cell_type": "markdown",
   "id": "74085e92",
   "metadata": {},
   "source": [
    "Starting training process:"
   ]
  },
  {
   "cell_type": "code",
   "execution_count": null,
   "id": "a76614fd",
   "metadata": {},
   "outputs": [],
   "source": [
    "trainer = pl.Trainer(\n",
    "    callbacks=[checkpoint_callback, early_stopping_callback],\n",
    "    max_epochs=N_EPOCHS,\n",
    "    gpus=1,\n",
    "    progress_bar_refresh_rate=30\n",
    ")"
   ]
  },
  {
   "cell_type": "code",
   "execution_count": null,
   "id": "130dd623",
   "metadata": {},
   "outputs": [],
   "source": [
    "torch.cuda.is_available()"
   ]
  },
  {
   "cell_type": "code",
   "execution_count": null,
   "id": "9257e462",
   "metadata": {
    "scrolled": true
   },
   "outputs": [],
   "source": [
    "trainer.fit(model, data_module)"
   ]
  },
  {
   "cell_type": "code",
   "execution_count": null,
   "id": "5e944401",
   "metadata": {},
   "outputs": [],
   "source": [
    "trainer.test()"
   ]
  },
  {
   "cell_type": "markdown",
   "id": "7574adf7",
   "metadata": {},
   "source": [
    "# Prediction"
   ]
  },
  {
   "cell_type": "code",
   "execution_count": null,
   "id": "2cf4a85a",
   "metadata": {},
   "outputs": [],
   "source": [
    "trained_model = Tagger.load_from_checkpoint(\n",
    "  trainer.checkpoint_callback.best_model_path,\n",
    "  n_classes=3\n",
    ")\n",
    "\n",
    "trained_model.eval()\n",
    "trained_model.freeze()"
   ]
  },
  {
   "cell_type": "markdown",
   "id": "a3c33f15",
   "metadata": {},
   "source": [
    "### Test 1 "
   ]
  },
  {
   "cell_type": "code",
   "execution_count": null,
   "id": "9294de13",
   "metadata": {},
   "outputs": [],
   "source": [
    "test_comment = \"Hi, I'm Tracy, How can I help?\"\n",
    "\n",
    "encoding = tokenizer.encode_plus(\n",
    "\n",
    "  test_comment,\n",
    "  add_special_tokens=True,\n",
    "  max_length=60,\n",
    "  return_token_type_ids=False,\n",
    "  padding=\"max_length\",\n",
    "  return_attention_mask=True,\n",
    "  return_tensors='pt',\n",
    ")\n",
    "\n",
    "_, test_prediction = trained_model(encoding[\"input_ids\"], encoding[\"attention_mask\"])\n",
    "test_prediction = test_prediction.flatten().numpy()\n",
    "\n",
    "for label, prediction in zip(encode_map, test_prediction):\n",
    "    print(f\"{label}: {prediction}\")"
   ]
  },
  {
   "cell_type": "markdown",
   "id": "26d764e4",
   "metadata": {},
   "source": [
    "### Test 2"
   ]
  },
  {
   "cell_type": "code",
   "execution_count": null,
   "id": "14dc10c9",
   "metadata": {},
   "outputs": [],
   "source": [
    "THRESHOLD = 0.5\n",
    "\n",
    "test_comment = \"You are such a loser! You'll regret everything you've done to me!\"\n",
    "\n",
    "encoding = tokenizer.encode_plus(\n",
    "\n",
    "  test_comment,\n",
    "  add_special_tokens=True,\n",
    "  max_length=512,\n",
    "  return_token_type_ids=False,\n",
    "  padding=\"max_length\",\n",
    "  return_attention_mask=True,\n",
    "  return_tensors='pt',\n",
    ")\n",
    "\n",
    "_, test_prediction = trained_model(encoding[\"input_ids\"], encoding[\"attention_mask\"])\n",
    "test_prediction = test_prediction.flatten().numpy()\n",
    "\n",
    "for label, prediction in zip(encode_map, test_prediction):\n",
    "    if prediction < THRESHOLD:\n",
    "        continue\n",
    "\n",
    "    print(f\"{label}: {prediction}\")"
   ]
  },
  {
   "cell_type": "markdown",
   "id": "5f521ba7",
   "metadata": {},
   "source": [
    "# Evaluation"
   ]
  },
  {
   "cell_type": "code",
   "execution_count": null,
   "id": "7b0af2b4",
   "metadata": {},
   "outputs": [],
   "source": [
    "device = torch.device('cuda' if torch.cuda.is_available() else 'cpu')\n",
    "trained_model = trained_model.to(device)\n",
    "\n",
    "val_dataset = Dataset(\n",
    "  df_test,\n",
    "  tokenizer,\n",
    "  max_token_len=MAX_TOKEN_COUNT\n",
    ")\n",
    "\n",
    "preds = []\n",
    "labels = []\n",
    "\n",
    "for item in tqdm(val_dataset):\n",
    "    _, prediction = trained_model(\n",
    "        item[\"input_ids\"].unsqueeze(dim=0).to(device),\n",
    "        item[\"attention_mask\"].unsqueeze(dim=0).to(device)\n",
    "    )\n",
    "\n",
    "    preds.append(prediction.flatten())\n",
    "    labels.append(item[\"labels\"].int())\n",
    "\n",
    "preds = torch.stack(preds).detach().cpu()\n",
    "labels = torch.stack(labels).detach().cpu()"
   ]
  },
  {
   "cell_type": "markdown",
   "id": "12677bc2",
   "metadata": {},
   "source": [
    "### Accuracy"
   ]
  },
  {
   "cell_type": "code",
   "execution_count": null,
   "id": "12b838bd",
   "metadata": {},
   "outputs": [],
   "source": [
    "accuracy(preds, labels)"
   ]
  },
  {
   "cell_type": "markdown",
   "id": "ff941643",
   "metadata": {},
   "source": [
    "### ROC"
   ]
  },
  {
   "cell_type": "code",
   "execution_count": null,
   "id": "7614ef03",
   "metadata": {},
   "outputs": [],
   "source": [
    "print(\"AUROC per tag\")\n",
    "\n",
    "#for i, name in enumerate(encode_map):\n",
    "label = labels.flatten()\n",
    "auroc = AUROC(num_classes=3)\n",
    "auroc = auroc(preds, label)\n",
    "print(auroc)"
   ]
  },
  {
   "cell_type": "markdown",
   "id": "f77f1c9b",
   "metadata": {},
   "source": [
    "### Classification report"
   ]
  },
  {
   "cell_type": "code",
   "execution_count": null,
   "id": "060627c1",
   "metadata": {},
   "outputs": [],
   "source": [
    "y_pred = torch.argmax(preds, dim=1)\n",
    "y_test = labels.numpy()"
   ]
  },
  {
   "cell_type": "code",
   "execution_count": null,
   "id": "e5624595",
   "metadata": {},
   "outputs": [],
   "source": [
    "print(classification_report(y_test, y_pred, target_names=encode_map))"
   ]
  },
  {
   "cell_type": "markdown",
   "id": "2416681e",
   "metadata": {},
   "source": [
    "### Confusion matrix"
   ]
  },
  {
   "cell_type": "code",
   "execution_count": null,
   "id": "270d73a0",
   "metadata": {},
   "outputs": [],
   "source": [
    "def show_confusion_matrix(confusion_matrix):\n",
    "  hmap = sns.heatmap(confusion_matrix, annot=True, fmt=\"d\", cmap=\"Blues\")\n",
    "  hmap.yaxis.set_ticklabels(hmap.yaxis.get_ticklabels(), rotation=0, ha='right')\n",
    "  hmap.xaxis.set_ticklabels(hmap.xaxis.get_ticklabels(), rotation=30, ha='right')\n",
    "  plt.ylabel('True sentiment')\n",
    "  plt.xlabel('Predicted sentiment');\n",
    "\n",
    "cm = confusion_matrix(y_test, y_pred)\n",
    "df_cm = pd.DataFrame(cm, index=encode_map, columns=encode_map)\n",
    "show_confusion_matrix(df_cm)"
   ]
  },
  {
   "cell_type": "markdown",
   "id": "655e09c8",
   "metadata": {},
   "source": [
    "### Storing test predictions: "
   ]
  },
  {
   "cell_type": "code",
   "execution_count": null,
   "id": "cd9af24b",
   "metadata": {},
   "outputs": [],
   "source": [
    "trained_model = TextModel.load_from_checkpoint(\n",
    "  trainer.checkpoint_callback.best_model_path,\n",
    "  n_classes=3\n",
    ")\n",
    "\n",
    "trained_model.eval()\n",
    "trained_model.freeze()"
   ]
  },
  {
   "cell_type": "code",
   "execution_count": null,
   "id": "98d54493",
   "metadata": {},
   "outputs": [],
   "source": [
    "device = torch.device('cuda' if torch.cuda.is_available() else 'cpu')\n",
    "trained_model = trained_model.to(device)\n",
    "\n",
    "test_dataset = Dataset(\n",
    "  df_test_final,\n",
    "  tokenizer,\n",
    "  max_token_len=MAX_TOKEN_COUNT\n",
    ")\n",
    "\n",
    "test_predictions = { \"fileID_roberta\": [], \"Negative_roberta\" : [], \"Neutral_roberta\" : [], \"Positive_roberta\" : [], \"predicted_roberta\": [], \"actual_roberta\": []}\n",
    "\n",
    "\n",
    "for item in tqdm(test_dataset):\n",
    "    _, prediction = trained_model(\n",
    "        item[\"input_ids\"].unsqueeze(dim=0).to(device),\n",
    "        item[\"attention_mask\"].unsqueeze(dim=0).to(device)\n",
    "    )\n",
    "\n",
    "    pred = prediction.flatten().detach().cpu().numpy()\n",
    "    pred2 = prediction.flatten()\n",
    "    pred3 = torch.argmax(pred2).squeeze().tolist()\n",
    "    test_predictions[\"predicted_roberta\"].append(pred3)\n",
    "    test_predictions[\"Negative_roberta\"].append(pred[0])\n",
    "    test_predictions[\"Neutral_roberta\"].append(pred[1])\n",
    "    test_predictions[\"Positive_roberta\"].append(pred[2])\n",
    "    test_predictions[\"actual_roberta\"].append(item[\"labels\"].squeeze(-1).numpy())\n",
    "    test_predictions[\"fileID_roberta\"].append(item[\"FileID\"])"
   ]
  },
  {
   "cell_type": "code",
   "execution_count": null,
   "id": "2269387c",
   "metadata": {},
   "outputs": [],
   "source": [
    "df = pd.DataFrame(data=test_predictions)\n",
    "df"
   ]
  },
  {
   "cell_type": "code",
   "execution_count": null,
   "id": "f15f4be4",
   "metadata": {},
   "outputs": [],
   "source": [
    "#saving to csv\n",
    "df.to_csv(r\"C:/Data/Sentiment Analysis/MELD/ensemble preds/roberta_text/test_preds_roberta_v2.csv\")"
   ]
  }
 ],
 "metadata": {
  "kernelspec": {
   "display_name": "Python [conda env:.conda-GoogleSTT]",
   "language": "python",
   "name": "conda-env-.conda-GoogleSTT-py"
  },
  "language_info": {
   "codemirror_mode": {
    "name": "ipython",
    "version": 3
   },
   "file_extension": ".py",
   "mimetype": "text/x-python",
   "name": "python",
   "nbconvert_exporter": "python",
   "pygments_lexer": "ipython3",
   "version": "3.7.10"
  }
 },
 "nbformat": 4,
 "nbformat_minor": 5
}
